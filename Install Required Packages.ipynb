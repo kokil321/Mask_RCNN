{
 "cells": [
  {
   "cell_type": "code",
   "execution_count": 2,
   "id": "3340bc62-974e-4224-ade2-7d7fd0630f53",
   "metadata": {
    "tags": []
   },
   "outputs": [
    {
     "name": "stdout",
     "output_type": "stream",
     "text": [
      "Collecting imgaug\n",
      "  Downloading imgaug-0.4.0-py2.py3-none-any.whl (948 kB)\n",
      "     ---------------------------------------- 0.0/948.0 kB ? eta -:--:--\n",
      "     ---------------------------------------- 10.2/948.0 kB ? eta -:--:--\n",
      "     ---------------------------------------- 10.2/948.0 kB ? eta -:--:--\n",
      "     ---------------------------------------- 10.2/948.0 kB ? eta -:--:--\n",
      "     - ----------------------------------- 41.0/948.0 kB 281.8 kB/s eta 0:00:04\n",
      "     -- ---------------------------------- 61.4/948.0 kB 328.2 kB/s eta 0:00:03\n",
      "     --- --------------------------------- 92.2/948.0 kB 375.8 kB/s eta 0:00:03\n",
      "     ---- ------------------------------- 122.9/948.0 kB 425.1 kB/s eta 0:00:02\n",
      "     ---- ------------------------------- 122.9/948.0 kB 425.1 kB/s eta 0:00:02\n",
      "     ------ ----------------------------- 174.1/948.0 kB 499.5 kB/s eta 0:00:02\n",
      "     ------- ---------------------------- 194.6/948.0 kB 513.4 kB/s eta 0:00:02\n",
      "     -------- --------------------------- 225.3/948.0 kB 529.7 kB/s eta 0:00:02\n",
      "     -------- --------------------------- 235.5/948.0 kB 497.3 kB/s eta 0:00:02\n",
      "     ---------- ------------------------- 276.5/948.0 kB 501.4 kB/s eta 0:00:02\n",
      "     ---------- ------------------------- 276.5/948.0 kB 501.4 kB/s eta 0:00:02\n",
      "     ---------- ------------------------- 276.5/948.0 kB 501.4 kB/s eta 0:00:02\n",
      "     ---------- ------------------------- 276.5/948.0 kB 501.4 kB/s eta 0:00:02\n",
      "     ---------- ------------------------- 276.5/948.0 kB 501.4 kB/s eta 0:00:02\n",
      "     ---------- ------------------------- 276.5/948.0 kB 501.4 kB/s eta 0:00:02\n",
      "     ---------- ------------------------- 286.7/948.0 kB 354.0 kB/s eta 0:00:02\n",
      "     ---------- ------------------------- 286.7/948.0 kB 354.0 kB/s eta 0:00:02\n",
      "     ---------- ------------------------- 286.7/948.0 kB 354.0 kB/s eta 0:00:02\n",
      "     ---------- ------------------------- 286.7/948.0 kB 354.0 kB/s eta 0:00:02\n",
      "     ---------- ------------------------- 286.7/948.0 kB 354.0 kB/s eta 0:00:02\n",
      "     ---------- ------------------------- 286.7/948.0 kB 354.0 kB/s eta 0:00:02\n",
      "     --------------- -------------------- 409.6/948.0 kB 365.4 kB/s eta 0:00:02\n",
      "     --------------- -------------------- 409.6/948.0 kB 365.4 kB/s eta 0:00:02\n",
      "     ---------------- ------------------- 430.1/948.0 kB 363.2 kB/s eta 0:00:02\n",
      "     ------------------ ----------------- 481.3/948.0 kB 381.7 kB/s eta 0:00:02\n",
      "     ------------------ ----------------- 491.5/948.0 kB 380.5 kB/s eta 0:00:02\n",
      "     ------------------ ----------------- 491.5/948.0 kB 380.5 kB/s eta 0:00:02\n",
      "     -------------------- --------------- 542.7/948.0 kB 396.5 kB/s eta 0:00:02\n",
      "     --------------------- -------------- 563.2/948.0 kB 397.8 kB/s eta 0:00:01\n",
      "     --------------------- -------------- 563.2/948.0 kB 397.8 kB/s eta 0:00:01\n",
      "     ----------------------- ------------ 624.6/948.0 kB 414.0 kB/s eta 0:00:01\n",
      "     ----------------------- ------------ 624.6/948.0 kB 414.0 kB/s eta 0:00:01\n",
      "     ----------------------- ------------ 624.6/948.0 kB 414.0 kB/s eta 0:00:01\n",
      "     -------------------------- --------- 706.6/948.0 kB 437.1 kB/s eta 0:00:01\n",
      "     ---------------------------- ------- 747.5/948.0 kB 441.2 kB/s eta 0:00:01\n",
      "     ----------------------------- ------ 768.0/948.0 kB 449.2 kB/s eta 0:00:01\n",
      "     ----------------------------- ------ 788.5/948.0 kB 457.0 kB/s eta 0:00:01\n",
      "     -------------------------------- --- 849.9/948.0 kB 471.5 kB/s eta 0:00:01\n",
      "     -------------------------------- --- 849.9/948.0 kB 471.5 kB/s eta 0:00:01\n",
      "     --------------------------------- -- 870.4/948.0 kB 466.7 kB/s eta 0:00:01\n",
      "     --------------------------------- -- 870.4/948.0 kB 466.7 kB/s eta 0:00:01\n",
      "     -----------------------------------  942.1/948.0 kB 473.5 kB/s eta 0:00:01\n",
      "     ------------------------------------ 948.0/948.0 kB 472.7 kB/s eta 0:00:00\n",
      "Requirement already satisfied: six in c:\\users\\kokil\\anaconda3\\lib\\site-packages (from imgaug) (1.16.0)\n",
      "Requirement already satisfied: numpy>=1.15 in c:\\users\\kokil\\anaconda3\\lib\\site-packages (from imgaug) (1.24.3)\n",
      "Requirement already satisfied: scipy in c:\\users\\kokil\\anaconda3\\lib\\site-packages (from imgaug) (1.11.1)\n",
      "Requirement already satisfied: Pillow in c:\\users\\kokil\\anaconda3\\lib\\site-packages (from imgaug) (9.4.0)\n",
      "Requirement already satisfied: matplotlib in c:\\users\\kokil\\anaconda3\\lib\\site-packages (from imgaug) (3.7.2)\n",
      "Requirement already satisfied: scikit-image>=0.14.2 in c:\\users\\kokil\\anaconda3\\lib\\site-packages (from imgaug) (0.19.3)\n",
      "Requirement already satisfied: opencv-python in c:\\users\\kokil\\anaconda3\\lib\\site-packages (from imgaug) (4.8.0.76)\n",
      "Requirement already satisfied: imageio in c:\\users\\kokil\\anaconda3\\lib\\site-packages (from imgaug) (2.26.0)\n",
      "Requirement already satisfied: Shapely in c:\\users\\kokil\\anaconda3\\lib\\site-packages (from imgaug) (2.0.1)\n",
      "Requirement already satisfied: networkx>=2.2 in c:\\users\\kokil\\anaconda3\\lib\\site-packages (from scikit-image>=0.14.2->imgaug) (3.1)\n",
      "Requirement already satisfied: tifffile>=2019.7.26 in c:\\users\\kokil\\anaconda3\\lib\\site-packages (from scikit-image>=0.14.2->imgaug) (2021.7.2)\n",
      "Requirement already satisfied: PyWavelets>=1.1.1 in c:\\users\\kokil\\anaconda3\\lib\\site-packages (from scikit-image>=0.14.2->imgaug) (1.4.1)\n",
      "Requirement already satisfied: packaging>=20.0 in c:\\users\\kokil\\anaconda3\\lib\\site-packages (from scikit-image>=0.14.2->imgaug) (23.1)\n",
      "Requirement already satisfied: contourpy>=1.0.1 in c:\\users\\kokil\\anaconda3\\lib\\site-packages (from matplotlib->imgaug) (1.0.5)\n",
      "Requirement already satisfied: cycler>=0.10 in c:\\users\\kokil\\anaconda3\\lib\\site-packages (from matplotlib->imgaug) (0.11.0)\n",
      "Requirement already satisfied: fonttools>=4.22.0 in c:\\users\\kokil\\anaconda3\\lib\\site-packages (from matplotlib->imgaug) (4.25.0)\n",
      "Requirement already satisfied: kiwisolver>=1.0.1 in c:\\users\\kokil\\anaconda3\\lib\\site-packages (from matplotlib->imgaug) (1.4.4)\n",
      "Requirement already satisfied: pyparsing<3.1,>=2.3.1 in c:\\users\\kokil\\anaconda3\\lib\\site-packages (from matplotlib->imgaug) (3.0.9)\n",
      "Requirement already satisfied: python-dateutil>=2.7 in c:\\users\\kokil\\anaconda3\\lib\\site-packages (from matplotlib->imgaug) (2.8.2)\n",
      "Requirement already satisfied: importlib-resources>=3.2.0 in c:\\users\\kokil\\anaconda3\\lib\\site-packages (from matplotlib->imgaug) (5.10.1)\n",
      "Requirement already satisfied: zipp>=3.1.0 in c:\\users\\kokil\\anaconda3\\lib\\site-packages (from importlib-resources>=3.2.0->matplotlib->imgaug) (3.11.0)\n",
      "Installing collected packages: imgaug\n",
      "Successfully installed imgaug-0.4.0\n"
     ]
    },
    {
     "name": "stderr",
     "output_type": "stream",
     "text": [
      "WARNING: Ignoring invalid distribution - (c:\\users\\kokil\\anaconda3\\lib\\site-packages)\n",
      "WARNING: Ignoring invalid distribution -pencv-python (c:\\users\\kokil\\anaconda3\\lib\\site-packages)\n",
      "WARNING: Ignoring invalid distribution -rotobuf (c:\\users\\kokil\\anaconda3\\lib\\site-packages)\n",
      "WARNING: Error parsing requirements for google-pasta: [Errno 2] No such file or directory: 'c:\\\\users\\\\kokil\\\\anaconda3\\\\lib\\\\site-packages\\\\google_pasta-0.2.0.dist-info\\\\METADATA'\n",
      "WARNING: Ignoring invalid distribution - (c:\\users\\kokil\\anaconda3\\lib\\site-packages)\n",
      "WARNING: Ignoring invalid distribution -pencv-python (c:\\users\\kokil\\anaconda3\\lib\\site-packages)\n",
      "WARNING: Ignoring invalid distribution -rotobuf (c:\\users\\kokil\\anaconda3\\lib\\site-packages)\n"
     ]
    }
   ],
   "source": [
    "!pip install imgaug"
   ]
  },
  {
   "cell_type": "code",
   "execution_count": 10,
   "id": "28070641-ff38-47e9-b92d-758e95180e10",
   "metadata": {
    "tags": []
   },
   "outputs": [
    {
     "name": "stdout",
     "output_type": "stream",
     "text": [
      "Collecting cython\n",
      "  Obtaining dependency information for cython from https://files.pythonhosted.org/packages/f9/20/400f5caa238051c54534f8ae76f9b2fcf1cd4171e7eba8d50f0066aff2ba/Cython-3.0.2-cp39-cp39-win_amd64.whl.metadata\n",
      "  Downloading Cython-3.0.2-cp39-cp39-win_amd64.whl.metadata (3.2 kB)\n",
      "Downloading Cython-3.0.2-cp39-cp39-win_amd64.whl (2.8 MB)\n",
      "   ---------------------------------------- 0.0/2.8 MB ? eta -:--:--\n",
      "   ---------------------------------------- 0.0/2.8 MB ? eta -:--:--\n",
      "   ---------------------------------------- 0.0/2.8 MB ? eta -:--:--\n",
      "   ---------------------------------------- 0.0/2.8 MB ? eta -:--:--\n",
      "   ---------------------------------------- 0.0/2.8 MB 330.3 kB/s eta 0:00:09\n",
      "    --------------------------------------- 0.1/2.8 MB 409.6 kB/s eta 0:00:07\n",
      "    --------------------------------------- 0.1/2.8 MB 409.6 kB/s eta 0:00:07\n",
      "   - -------------------------------------- 0.1/2.8 MB 403.5 kB/s eta 0:00:07\n",
      "   -- ------------------------------------- 0.1/2.8 MB 532.5 kB/s eta 0:00:05\n",
      "   -- ------------------------------------- 0.2/2.8 MB 541.0 kB/s eta 0:00:05\n",
      "   --- ------------------------------------ 0.2/2.8 MB 686.8 kB/s eta 0:00:04\n",
      "   --- ------------------------------------ 0.3/2.8 MB 716.5 kB/s eta 0:00:04\n",
      "   ---- ----------------------------------- 0.3/2.8 MB 729.7 kB/s eta 0:00:04\n",
      "   ---- ----------------------------------- 0.3/2.8 MB 749.8 kB/s eta 0:00:04\n",
      "   ----- ---------------------------------- 0.4/2.8 MB 743.9 kB/s eta 0:00:04\n",
      "   ----- ---------------------------------- 0.4/2.8 MB 752.1 kB/s eta 0:00:04\n",
      "   ------ --------------------------------- 0.4/2.8 MB 768.9 kB/s eta 0:00:04\n",
      "   ------ --------------------------------- 0.5/2.8 MB 723.0 kB/s eta 0:00:04\n",
      "   ------ --------------------------------- 0.5/2.8 MB 723.0 kB/s eta 0:00:04\n",
      "   -------- ------------------------------- 0.6/2.8 MB 784.4 kB/s eta 0:00:03\n",
      "   -------- ------------------------------- 0.6/2.8 MB 784.4 kB/s eta 0:00:03\n",
      "   -------- ------------------------------- 0.6/2.8 MB 747.3 kB/s eta 0:00:03\n",
      "   --------- ------------------------------ 0.7/2.8 MB 779.1 kB/s eta 0:00:03\n",
      "   --------- ------------------------------ 0.7/2.8 MB 772.4 kB/s eta 0:00:03\n",
      "   ---------- ----------------------------- 0.7/2.8 MB 786.9 kB/s eta 0:00:03\n",
      "   ----------- ---------------------------- 0.8/2.8 MB 804.0 kB/s eta 0:00:03\n",
      "   ----------- ---------------------------- 0.8/2.8 MB 804.0 kB/s eta 0:00:03\n",
      "   ------------ --------------------------- 0.8/2.8 MB 802.8 kB/s eta 0:00:03\n",
      "   ------------ --------------------------- 0.8/2.8 MB 802.8 kB/s eta 0:00:03\n",
      "   ------------ --------------------------- 0.8/2.8 MB 802.8 kB/s eta 0:00:03\n",
      "   ------------- -------------------------- 1.0/2.8 MB 802.3 kB/s eta 0:00:03\n",
      "   ------------- -------------------------- 1.0/2.8 MB 802.3 kB/s eta 0:00:03\n",
      "   -------------- ------------------------- 1.0/2.8 MB 801.4 kB/s eta 0:00:03\n",
      "   -------------- ------------------------- 1.0/2.8 MB 801.4 kB/s eta 0:00:03\n",
      "   --------------- ------------------------ 1.1/2.8 MB 793.0 kB/s eta 0:00:03\n",
      "   --------------- ------------------------ 1.1/2.8 MB 796.9 kB/s eta 0:00:03\n",
      "   --------------- ------------------------ 1.1/2.8 MB 796.9 kB/s eta 0:00:03\n",
      "   ----------------- ---------------------- 1.2/2.8 MB 802.2 kB/s eta 0:00:02\n",
      "   ----------------- ---------------------- 1.2/2.8 MB 802.2 kB/s eta 0:00:02\n",
      "   ----------------- ---------------------- 1.2/2.8 MB 802.2 kB/s eta 0:00:02\n",
      "   ------------------ --------------------- 1.3/2.8 MB 811.2 kB/s eta 0:00:02\n",
      "   ------------------- -------------------- 1.3/2.8 MB 805.5 kB/s eta 0:00:02\n",
      "   ------------------- -------------------- 1.4/2.8 MB 801.2 kB/s eta 0:00:02\n",
      "   ------------------- -------------------- 1.4/2.8 MB 801.2 kB/s eta 0:00:02\n",
      "   -------------------- ------------------- 1.4/2.8 MB 806.4 kB/s eta 0:00:02\n",
      "   -------------------- ------------------- 1.4/2.8 MB 806.4 kB/s eta 0:00:02\n",
      "   --------------------- ------------------ 1.5/2.8 MB 787.7 kB/s eta 0:00:02\n",
      "   --------------------- ------------------ 1.5/2.8 MB 787.7 kB/s eta 0:00:02\n",
      "   --------------------- ------------------ 1.5/2.8 MB 787.7 kB/s eta 0:00:02\n",
      "   ---------------------- ----------------- 1.6/2.8 MB 790.9 kB/s eta 0:00:02\n",
      "   ----------------------- ---------------- 1.6/2.8 MB 791.6 kB/s eta 0:00:02\n",
      "   ----------------------- ---------------- 1.6/2.8 MB 788.5 kB/s eta 0:00:02\n",
      "   ----------------------- ---------------- 1.6/2.8 MB 788.5 kB/s eta 0:00:02\n",
      "   ------------------------ --------------- 1.7/2.8 MB 778.3 kB/s eta 0:00:02\n",
      "   ------------------------ --------------- 1.7/2.8 MB 780.9 kB/s eta 0:00:02\n",
      "   ------------------------- -------------- 1.8/2.8 MB 782.1 kB/s eta 0:00:02\n",
      "   -------------------------- ------------- 1.8/2.8 MB 784.9 kB/s eta 0:00:02\n",
      "   -------------------------- ------------- 1.8/2.8 MB 784.9 kB/s eta 0:00:02\n",
      "   -------------------------- ------------- 1.9/2.8 MB 780.4 kB/s eta 0:00:02\n",
      "   --------------------------- ------------ 1.9/2.8 MB 783.1 kB/s eta 0:00:02\n",
      "   ---------------------------- ----------- 1.9/2.8 MB 779.1 kB/s eta 0:00:02\n",
      "   ---------------------------- ----------- 2.0/2.8 MB 783.3 kB/s eta 0:00:02\n",
      "   ---------------------------- ----------- 2.0/2.8 MB 779.4 kB/s eta 0:00:01\n",
      "   ----------------------------- ---------- 2.0/2.8 MB 778.0 kB/s eta 0:00:01\n",
      "   ----------------------------- ---------- 2.0/2.8 MB 778.0 kB/s eta 0:00:01\n",
      "   ----------------------------- ---------- 2.0/2.8 MB 778.0 kB/s eta 0:00:01\n",
      "   ----------------------------- ---------- 2.0/2.8 MB 778.0 kB/s eta 0:00:01\n",
      "   ----------------------------- ---------- 2.0/2.8 MB 778.0 kB/s eta 0:00:01\n",
      "   ------------------------------ --------- 2.2/2.8 MB 761.1 kB/s eta 0:00:01\n",
      "   ------------------------------- -------- 2.2/2.8 MB 748.0 kB/s eta 0:00:01\n",
      "   ------------------------------- -------- 2.2/2.8 MB 754.1 kB/s eta 0:00:01\n",
      "   ------------------------------- -------- 2.2/2.8 MB 754.1 kB/s eta 0:00:01\n",
      "   --------------------------------- ------ 2.3/2.8 MB 757.4 kB/s eta 0:00:01\n",
      "   --------------------------------- ------ 2.3/2.8 MB 755.8 kB/s eta 0:00:01\n",
      "   ---------------------------------- ----- 2.4/2.8 MB 757.5 kB/s eta 0:00:01\n",
      "   ---------------------------------- ----- 2.4/2.8 MB 756.9 kB/s eta 0:00:01\n",
      "   ---------------------------------- ----- 2.4/2.8 MB 756.9 kB/s eta 0:00:01\n",
      "   ---------------------------------- ----- 2.4/2.8 MB 756.9 kB/s eta 0:00:01\n",
      "   ---------------------------------- ----- 2.4/2.8 MB 756.9 kB/s eta 0:00:01\n",
      "   ----------------------------------- ---- 2.5/2.8 MB 748.2 kB/s eta 0:00:01\n",
      "   ----------------------------------- ---- 2.5/2.8 MB 748.2 kB/s eta 0:00:01\n",
      "   ------------------------------------- -- 2.6/2.8 MB 751.6 kB/s eta 0:00:01\n",
      "   ------------------------------------- -- 2.6/2.8 MB 747.8 kB/s eta 0:00:01\n",
      "   ------------------------------------- -- 2.6/2.8 MB 747.8 kB/s eta 0:00:01\n",
      "   -------------------------------------- - 2.7/2.8 MB 748.2 kB/s eta 0:00:01\n",
      "   -------------------------------------- - 2.7/2.8 MB 748.2 kB/s eta 0:00:01\n",
      "   ---------------------------------------  2.7/2.8 MB 745.8 kB/s eta 0:00:01\n",
      "   ---------------------------------------  2.7/2.8 MB 745.8 kB/s eta 0:00:01\n",
      "   ---------------------------------------  2.8/2.8 MB 743.6 kB/s eta 0:00:01\n",
      "   ---------------------------------------- 2.8/2.8 MB 737.5 kB/s eta 0:00:00\n",
      "Installing collected packages: cython\n",
      "Successfully installed cython-3.0.2\n"
     ]
    },
    {
     "name": "stderr",
     "output_type": "stream",
     "text": [
      "WARNING: Ignoring invalid distribution - (c:\\users\\kokil\\anaconda3\\lib\\site-packages)\n",
      "WARNING: Ignoring invalid distribution -pencv-python (c:\\users\\kokil\\anaconda3\\lib\\site-packages)\n",
      "WARNING: Ignoring invalid distribution -rotobuf (c:\\users\\kokil\\anaconda3\\lib\\site-packages)\n",
      "WARNING: Error parsing requirements for google-pasta: [Errno 2] No such file or directory: 'c:\\\\users\\\\kokil\\\\anaconda3\\\\lib\\\\site-packages\\\\google_pasta-0.2.0.dist-info\\\\METADATA'\n",
      "WARNING: Ignoring invalid distribution - (c:\\users\\kokil\\anaconda3\\lib\\site-packages)\n",
      "WARNING: Ignoring invalid distribution -pencv-python (c:\\users\\kokil\\anaconda3\\lib\\site-packages)\n",
      "WARNING: Ignoring invalid distribution -rotobuf (c:\\users\\kokil\\anaconda3\\lib\\site-packages)\n",
      "ERROR: pip's dependency resolver does not currently take into account all the packages that are installed. This behaviour is the source of the following dependency conflicts.\n",
      "tables 3.8.0 requires blosc2~=2.0.0, which is not installed.\n"
     ]
    }
   ],
   "source": [
    "!pip install cython"
   ]
  },
  {
   "cell_type": "code",
   "execution_count": 13,
   "id": "0af94b72-7b48-43f2-9bdd-490482a9f71a",
   "metadata": {
    "tags": []
   },
   "outputs": [],
   "source": [
    "import cython "
   ]
  },
  {
   "cell_type": "code",
   "execution_count": 12,
   "id": "78288a78-b824-4bdc-800c-8e4fdbd9a99f",
   "metadata": {
    "tags": []
   },
   "outputs": [],
   "source": [
    "import scipy"
   ]
  },
  {
   "cell_type": "code",
   "execution_count": 14,
   "id": "061ddf9b-7bc9-4cb4-9f2a-f42e367b65f1",
   "metadata": {
    "tags": []
   },
   "outputs": [
    {
     "name": "stdout",
     "output_type": "stream",
     "text": [
      "Requirement already satisfied: Pillow in c:\\users\\kokil\\anaconda3\\lib\\site-packages (9.4.0)"
     ]
    },
    {
     "name": "stderr",
     "output_type": "stream",
     "text": [
      "WARNING: Ignoring invalid distribution - (c:\\users\\kokil\\anaconda3\\lib\\site-packages)\n",
      "WARNING: Ignoring invalid distribution -pencv-python (c:\\users\\kokil\\anaconda3\\lib\\site-packages)\n",
      "WARNING: Ignoring invalid distribution -rotobuf (c:\\users\\kokil\\anaconda3\\lib\\site-packages)\n",
      "WARNING: Error parsing requirements for google-pasta: [Errno 2] No such file or directory: 'c:\\\\users\\\\kokil\\\\anaconda3\\\\lib\\\\site-packages\\\\google_pasta-0.2.0.dist-info\\\\METADATA'\n",
      "WARNING: Ignoring invalid distribution - (c:\\users\\kokil\\anaconda3\\lib\\site-packages)\n",
      "WARNING: Ignoring invalid distribution -pencv-python (c:\\users\\kokil\\anaconda3\\lib\\site-packages)\n",
      "WARNING: Ignoring invalid distribution -rotobuf (c:\\users\\kokil\\anaconda3\\lib\\site-packages)\n"
     ]
    },
    {
     "name": "stdout",
     "output_type": "stream",
     "text": [
      "\n"
     ]
    }
   ],
   "source": [
    "!pip install Pillow"
   ]
  },
  {
   "cell_type": "code",
   "execution_count": 17,
   "id": "66de78f0-0648-4eb3-b1a4-e046fa2e7a2f",
   "metadata": {
    "tags": []
   },
   "outputs": [],
   "source": [
    "import PIL"
   ]
  },
  {
   "cell_type": "code",
   "execution_count": null,
   "id": "1984b97e-11e4-4e4d-85ca-5835c96b9d2f",
   "metadata": {
    "tags": []
   },
   "outputs": [],
   "source": [
    "!pip uninstall keras "
   ]
  },
  {
   "cell_type": "code",
   "execution_count": null,
   "id": "aaef29f0-c357-45ca-8040-0e1041ab8bde",
   "metadata": {
    "tags": []
   },
   "outputs": [],
   "source": [
    "!pip install keras==2.0.8\n"
   ]
  },
  {
   "cell_type": "code",
   "execution_count": null,
   "id": "08402fbf-960e-4150-874a-caf51b23da51",
   "metadata": {},
   "outputs": [],
   "source": []
  }
 ],
 "metadata": {
  "kernelspec": {
   "display_name": "Python 3 (ipykernel)",
   "language": "python",
   "name": "python3"
  },
  "language_info": {
   "codemirror_mode": {
    "name": "ipython",
    "version": 3
   },
   "file_extension": ".py",
   "mimetype": "text/x-python",
   "name": "python",
   "nbconvert_exporter": "python",
   "pygments_lexer": "ipython3",
   "version": "3.9.13"
  }
 },
 "nbformat": 4,
 "nbformat_minor": 5
}
