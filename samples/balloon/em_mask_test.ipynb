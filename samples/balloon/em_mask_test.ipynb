{
 "cells": [
  {
   "cell_type": "markdown",
   "id": "b83d465b-c553-47d6-a3bd-fa99a4de123f",
   "metadata": {
    "tags": []
   },
   "source": [
    "## Mask R-CNN - Train on Own Dataset\n",
    "\n",
    "\n",
    "This notebook shows how to train Mask R-CNN on your own dataset. To keep things simple we use a synthetic dataset of shapes (squares, triangles, and circles) which enables fast training. You'd still need a GPU, though, because the network backbone is a Resnet101, which would be too slow to train on a CPU. On a GPU, you can start to get okay-ish results in a few minutes, and good results in less than an hour.\n",
    "\n",
    "The code of the *Shapes* dataset is included below. It generates images on the fly, so it doesn't require downloading any data. And it can generate images of any size, so we pick a small image size to train faster. \n",
    "\n",
    "#### PIP INSTALLATIONS\n",
    "* pip install numpy scipy pillow cython matplotlib scikit-image opencv-python-headless h5py keras\n",
    "* pip install tensorflow==2.2.0  # You may adjust the TensorFlow version if needed\n",
    "* pip install imgaug\n",
    "* pip install git+https://github.com/matterport/Mask_RCNN.git\n",
    "Changed the model.py by replacing KE.Layers to KL.Layers \n"
   ]
  },
  {
   "cell_type": "code",
   "execution_count": 3,
   "id": "555f1a9f-cf8e-4cba-8e11-60d47d48e015",
   "metadata": {
    "tags": []
   },
   "outputs": [],
   "source": [
    "import os\n",
    "import sys\n",
    "import itertools\n",
    "import math\n",
    "import logging\n",
    "import json\n",
    "import re\n",
    "import random\n",
    "from collections import OrderedDict\n",
    "import numpy as np\n",
    "import matplotlib\n",
    "import matplotlib.pyplot as plt\n",
    "import matplotlib.patches as patches\n",
    "import matplotlib.lines as lines\n",
    "from matplotlib.patches import Polygon"
   ]
  },
  {
   "cell_type": "code",
   "execution_count": 5,
   "id": "a5daf3e1-0c82-4d2c-9b89-e25cf1d87965",
   "metadata": {
    "tags": []
   },
   "outputs": [
    {
     "data": {
      "text/plain": [
       "'G:\\\\My Drive\\\\02_Python_Projects\\\\Mask_RCNN'"
      ]
     },
     "execution_count": 5,
     "metadata": {},
     "output_type": "execute_result"
    }
   ],
   "source": [
    "\n",
    "# Root directory of the project\n",
    "ROOT_DIR = os.path.abspath(\"../../\")\n",
    "ROOT_DIR"
   ]
  },
  {
   "cell_type": "code",
   "execution_count": 6,
   "id": "8d7f4a7d-6419-4957-9e3f-7c7ce8a6ccea",
   "metadata": {
    "tags": []
   },
   "outputs": [
    {
     "name": "stderr",
     "output_type": "stream",
     "text": [
      "Using TensorFlow backend.\n"
     ]
    }
   ],
   "source": [
    "\n",
    "# Import Mask RCNN\n",
    "sys.path.append(ROOT_DIR)  # To find local version of the library\n",
    "from mrcnn import utils\n",
    "from mrcnn import visualize\n",
    "from mrcnn.visualize import display_images\n",
    "import mrcnn.model as modellib\n",
    "from mrcnn.model import log\n",
    "\n",
    "from samples.balloon import balloon\n",
    "\n",
    "%matplotlib inline "
   ]
  },
  {
   "cell_type": "markdown",
   "id": "8f735903-4f23-4bc7-bc3d-7a3e0e72c211",
   "metadata": {
    "tags": []
   },
   "source": [
    "### Configurations\n",
    "* Configurations are defined in baloon.py"
   ]
  },
  {
   "cell_type": "code",
   "execution_count": null,
   "id": "6dcf4ef0-0b34-4ae8-9f9b-79932589343d",
   "metadata": {
    "tags": []
   },
   "outputs": [],
   "source": []
  },
  {
   "cell_type": "code",
   "execution_count": null,
   "id": "73763b0d-940f-4b06-af0e-6ba58923bcd1",
   "metadata": {},
   "outputs": [],
   "source": [
    "config = balloon.BalloonConfig()\n",
    "BALLOON_DIR = os.path.join(ROOT_DIR, \"datasets/balloon\")"
   ]
  }
 ],
 "metadata": {
  "kernelspec": {
   "display_name": "Python 3 (ipykernel)",
   "language": "python",
   "name": "python3"
  },
  "language_info": {
   "codemirror_mode": {
    "name": "ipython",
    "version": 3
   },
   "file_extension": ".py",
   "mimetype": "text/x-python",
   "name": "python",
   "nbconvert_exporter": "python",
   "pygments_lexer": "ipython3",
   "version": "3.7.16"
  }
 },
 "nbformat": 4,
 "nbformat_minor": 5
}
